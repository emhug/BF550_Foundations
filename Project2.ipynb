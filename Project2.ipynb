{
 "cells": [
  {
   "cell_type": "code",
   "execution_count": null,
   "metadata": {},
   "outputs": [],
   "source": [
    "# The purpose of this project is to do PCA and generate a tSNE plot"
   ]
  },
  {
   "cell_type": "code",
   "execution_count": 1,
   "metadata": {},
   "outputs": [],
   "source": [
    "# do imports\n",
    "import numpy as np\n",
    "import matplotlib.pyplot as plt\n",
    "import scipy.stats as sps\n",
    "import pickle\n",
    "import pandas as pd\n",
    "import seaborn as sns"
   ]
  },
  {
   "cell_type": "code",
   "execution_count": 9,
   "metadata": {},
   "outputs": [],
   "source": [
    "#extract shoot and root data from csv files\n",
    "reads = np.empty((22383, 166))\n",
    "OTUs = np.empty(22383, dtype=str)\n",
    "plate = np.empty(166, dtype=str)\n",
    "OTU = []\n",
    "f = open('figure2A_raw.csv', 'r')\n",
    "i = 0\n",
    "# Parsing the data\n",
    "for line in f:\n",
    "    line = line.strip()\n",
    "    line = line.split(',')\n",
    "    if line[0] == '\"\"':\n",
    "        for j in range(len(line)):\n",
    "            line[j] = line[j][1:-1]\n",
    "        plate = line[1::] # Save plates\n",
    "    else:\n",
    "        reads[i] = line[1::]\n",
    "        if line[0][1] == 'A':\n",
    "            line[0] = line[0][1:-1]\n",
    "            OTU.append(line[0]) # Save ASVs\n",
    "        i += 1\n",
    "OTUs = OTU\n",
    "\n",
    "# Initialize index lists\n",
    "root_ind = []\n",
    "shoot_ind = []\n",
    "soil_ind = []\n",
    "q = open('data_Fig2A_S2A.csv', 'r') # This has the metadata, ie part of the plant\n",
    "for row in q:\n",
    "    row = row.strip()\n",
    "    row = row.split(',')\n",
    "    pos = row[0]+'_'+row[1]\n",
    "    #if row[6] == 'Col-0': # From Figure 2A analysis\n",
    "    # Saving indices for sites\n",
    "    if row[8] == 'Root':\n",
    "        root_ind.append(plate.index(pos))\n",
    "    if row[8] == 'Soil':\n",
    "        soil_ind.append(plate.index(pos))\n",
    "    if row[8] == 'Shoot':\n",
    "        shoot_ind.append(plate.index(pos))"
   ]
  },
  {
   "cell_type": "code",
   "execution_count": 3,
   "metadata": {},
   "outputs": [],
   "source": [
    "plate_2 = []\n",
    "q = open('data_Fig2A_S2a.csv', 'r')\n",
    "for row in q:\n",
    "    row = row.strip()\n",
    "    row = row.split(',')\n",
    "    plate_2.append(row[0] +'_'+ row[1])\n",
    "plate_2 = plate_2[1::]\n",
    "\n",
    "extras = []\n",
    "for i in plate:\n",
    "    if i not in plate_2:\n",
    "        extras.append(plate.index(i))"
   ]
  },
  {
   "cell_type": "code",
   "execution_count": 10,
   "metadata": {},
   "outputs": [
    {
     "name": "stdout",
     "output_type": "stream",
     "text": [
      "(22383, 159)\n"
     ]
    }
   ],
   "source": [
    "reads = np.delete(reads, extras, axis=1)\n",
    "print(reads.shape)"
   ]
  },
  {
   "cell_type": "code",
   "execution_count": 11,
   "metadata": {},
   "outputs": [],
   "source": [
    "#rarefy the data\n",
    "# Do imports\n",
    "from numpy.random import RandomState \n",
    "\n",
    "def rarefaction(M, seed=0):\n",
    "    '''Rarefies an array M. Allows seed to be set for reproducible results.'''\n",
    "    prng = RandomState(seed) # reproducible results\n",
    "    noccur = np.sum(M, axis=0) # number of occurrences for each sample\n",
    "    nvar = M.shape[0] # number of variables\n",
    "    depth = 3000\n",
    "\n",
    "    Mrarefied = np.empty_like(M)\n",
    "    for i in range(M.shape[1]): # for each sample\n",
    "        p = M[:,i] / float(noccur[i]) # relative frequency / probability\n",
    "        choice = prng.choice(nvar, depth, p=p)\n",
    "        Mrarefied[:,i] = np.bincount(choice, minlength=nvar)\n",
    "\n",
    "    return Mrarefied"
   ]
  },
  {
   "cell_type": "code",
   "execution_count": 12,
   "metadata": {},
   "outputs": [
    {
     "name": "stdout",
     "output_type": "stream",
     "text": [
      "(22383, 159)\n"
     ]
    }
   ],
   "source": [
    "# Rarefy data\n",
    "rare = rarefaction(reads, seed=130816)\n",
    "print(rare.shape)"
   ]
  },
  {
   "cell_type": "code",
   "execution_count": 14,
   "metadata": {},
   "outputs": [],
   "source": [
    "# Calculate bray-curtis dissimilarities\n",
    "from scipy.spatial import distance\n",
    "\n",
    "result = np.zeros((rare.shape[1], rare.shape[1]))\n",
    "\n",
    "for i in range(rare.shape[1]):\n",
    "    for j in range(rare.shape[1]):\n",
    "        result[i,j] = distance.braycurtis(rare[:,i], rare[:,j])\n",
    "    "
   ]
  },
  {
   "cell_type": "code",
   "execution_count": 15,
   "metadata": {},
   "outputs": [
    {
     "name": "stdout",
     "output_type": "stream",
     "text": [
      "[0.         0.906      0.984      0.773      0.97733333 0.93066667\n",
      " 0.94166667 0.967      0.75566667 0.73533333 0.558      0.86966667\n",
      " 0.70966667 0.92933333 0.86533333 0.85066667 0.85533333 0.73733333\n",
      " 0.95433333 0.74133333 0.853      0.65166667 0.93233333 0.64033333\n",
      " 0.873      0.675      0.94933333 0.95966667 0.98366667 0.87466667\n",
      " 0.72933333 0.93733333 0.82966667 0.93233333 0.96833333 0.96966667\n",
      " 0.92066667 0.938      0.785      0.84033333 0.94633333 0.86433333\n",
      " 0.93233333 0.93633333 0.89366667 0.66533333 0.93733333 0.94933333\n",
      " 0.88333333 0.968      0.625      0.869      0.97233333 0.85633333\n",
      " 0.88133333 0.763      0.977      0.82466667 0.932      0.867\n",
      " 0.947      0.944      0.73566667 0.93566667 0.964      0.71633333\n",
      " 0.794      0.90733333 0.972      0.73166667 0.93966667 0.933\n",
      " 0.89766667 0.92566667 0.927      0.969      0.974      0.71666667\n",
      " 0.98066667 0.60533333 0.983      0.68866667 0.934      0.886\n",
      " 0.71766667 0.96866667 0.67466667 0.89666667 0.959      0.97333333\n",
      " 0.892      0.89833333 0.78233333 0.73366667 0.96566667 0.908\n",
      " 0.92933333 0.90633333 0.799      0.80133333 0.97366667 0.95366667\n",
      " 0.91766667 0.702      0.967      0.968      0.95733333 0.732\n",
      " 0.919      0.82033333 0.89533333 0.75666667 0.97166667 0.97366667\n",
      " 0.86633333 0.73766667 0.90633333 0.90633333 0.90066667 0.943\n",
      " 0.90966667 0.97433333 0.96866667 0.974      0.96366667 0.85\n",
      " 0.85633333 0.98333333 0.87133333 0.90366667 0.77066667 0.75566667\n",
      " 0.93966667 0.97633333 0.95633333 0.997      0.795      0.95066667\n",
      " 0.982      0.93333333 0.94633333 0.968      0.97033333 0.944\n",
      " 0.73633333 0.906      0.87833333 0.922      0.91866667 0.95466667\n",
      " 0.92       0.77466667 0.91033333 0.814      0.93833333 0.85833333\n",
      " 0.94833333 0.896      0.89033333]\n"
     ]
    }
   ],
   "source": [
    "print(result[0])\n",
    "# Bray-Curtis dissimilarities look good"
   ]
  },
  {
   "cell_type": "code",
   "execution_count": 21,
   "metadata": {},
   "outputs": [
    {
     "name": "stdout",
     "output_type": "stream",
     "text": [
      "Variance Explained:  [0.24148596 0.15631404]\n"
     ]
    }
   ],
   "source": [
    "from sklearn.decomposition import PCA\n",
    "pca = PCA(n_components=2)\n",
    "pca.fit(rare)\n",
    "print('Variance Explained: ', pca.explained_variance_ratio_)"
   ]
  },
  {
   "cell_type": "code",
   "execution_count": 49,
   "metadata": {},
   "outputs": [
    {
     "data": {
      "text/plain": [
       "PCA(copy=True, iterated_power='auto', n_components=5, random_state=None,\n",
       "  svd_solver='auto', tol=0.0, whiten=False)"
      ]
     },
     "execution_count": 49,
     "metadata": {},
     "output_type": "execute_result"
    }
   ],
   "source": [
    "# PCA imports\n",
    "from sklearn.decomposition import PCA\n",
    "# finding principle components\n",
    "pca = PCA(n_components = 3) # this defines the model\n",
    "pca.fit(result) # this fits the model\n",
    "# a good measure of performance\n",
    "#print('Variance Explained: ', pca.explained_variance_ratio_)"
   ]
  },
  {
   "cell_type": "code",
   "execution_count": 22,
   "metadata": {},
   "outputs": [
    {
     "name": "stdout",
     "output_type": "stream",
     "text": [
      "159\n"
     ]
    }
   ],
   "source": [
    "# Make target variable to label sites as 0, 1 and 2\n",
    "#target = np.zeros(result.shape[1])\n",
    "#for i in range(site_ind.size-1):\n",
    "    #target[site_ind[i]:site_ind[i+1]] = i\n",
    "target = np.zeros((159))\n",
    "for i in range(target.size):\n",
    "    if i in root_ind:\n",
    "        target[i] = 0\n",
    "    if i in soil_ind:\n",
    "        target[i] = 1\n",
    "    if i in shoot_ind:\n",
    "        target[i] = 2\n",
    "print(len(target))"
   ]
  },
  {
   "cell_type": "code",
   "execution_count": 59,
   "metadata": {},
   "outputs": [
    {
     "name": "stdout",
     "output_type": "stream",
     "text": [
      "Variance Explained:  [0.32931303 0.16882116 0.13735137 0.0659648  0.03862332]\n"
     ]
    }
   ],
   "source": [
    "# PCA imports\n",
    "from sklearn.decomposition import PCA\n",
    "# finding principle components\n",
    "pca = PCA(n_components = 5) # this defines the model\n",
    "pca.fit(result) # this fits the model\n",
    "# a good measure of performance\n",
    "print('Variance Explained: ', pca.explained_variance_ratio_)"
   ]
  },
  {
   "cell_type": "code",
   "execution_count": 62,
   "metadata": {},
   "outputs": [
    {
     "data": {
      "text/plain": [
       "TSNE(angle=0.5, early_exaggeration=12.0, init='random', learning_rate=200.0,\n",
       "   method='barnes_hut', metric='euclidean', min_grad_norm=1e-07,\n",
       "   n_components=2, n_iter=1000, n_iter_without_progress=300,\n",
       "   perplexity=30.0, random_state=None, verbose=0)"
      ]
     },
     "execution_count": 62,
     "metadata": {},
     "output_type": "execute_result"
    }
   ],
   "source": [
    "# t-SNE imports\n",
    "from sklearn.manifold import TSNE\n",
    "# finding principle components\n",
    "tsne = TSNE(n_components=2)\n",
    "tsne.fit(result)\n",
    "#print('Variance Explained: ', tsne.explained_variance_ratio_)"
   ]
  },
  {
   "cell_type": "code",
   "execution_count": 63,
   "metadata": {},
   "outputs": [
    {
     "data": {
      "image/png": "[encoded data removed]",
      "text/plain": [
       "<Figure size 432x288 with 2 Axes>"
      ]
     },
     "metadata": {
      "needs_background": "light"
     },
     "output_type": "display_data"
    }
   ],
   "source": [
    "# t-SNE vizualization\n",
    "X_tsne = tsne.fit_transform(result)\n",
    "plt.scatter(X_tsne[:,0], X_tsne[:,1], c = target, s =0.4, cmap=plt.cm.get_cmap('brg',4))\n",
    "plt.colorbar();\n",
    "# The non-linear transformation is evident in the shapes and the fact\n",
    "# that the brown cluster is detached from red and green clusters."
   ]
  },
  {
   "cell_type": "code",
   "execution_count": null,
   "metadata": {},
   "outputs": [],
   "source": []
  }
 ],
 "metadata": {
  "kernelspec": {
   "display_name": "Python 3",
   "language": "python",
   "name": "python3"
  },
  "language_info": {
   "codemirror_mode": {
    "name": "ipython",
    "version": 3
   },
   "file_extension": ".py",
   "mimetype": "text/x-python",
   "name": "python",
   "nbconvert_exporter": "python",
   "pygments_lexer": "ipython3",
   "version": "3.7.3"
  }
 },
 "nbformat": 4,
 "nbformat_minor": 2
}
