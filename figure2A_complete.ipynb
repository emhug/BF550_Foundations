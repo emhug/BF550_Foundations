{
 "cells": [
  {
   "cell_type": "raw",
   "metadata": {},
   "source": [
    "### Cleandata\n",
    "dat_hallepi_amplicon_bacteria_ASV_soil.2019.RDS: R object that contains the ASV Table, Metadata and Taxonomic profiles of the bacterial ASVs obtained from the Halle soil experiment. <br />\n",
    "\n",
    "dat_hallepi_amplicon_fungi_otus_soil.2019.RDS: R object that contains the OTU Table, Metadata and Taxonomic profile  of the fungal OTUs obtained from the Halle soil experiment. <br />\n",
    "\n",
    "dat_hallepi_syncom_bacteria_useq97.RDS: R object that contains the USeq table for the SynCom experiment <br />\n",
    "\n",
    "dat_rnaseq_hallepi.RDS: R object that contains the Transcriptomic matrix (gene X samples) and Metadata for the RNA-Seq data derived from the Halle soil experiment. <br />\n",
    "\n",
    "dat_rnaseq_syncom.RDS: R object that contains the Transcriptomic matrix (gene X sapmles) and Metadata for the RNA-Seq data derived from the SynCom experiment. <br />\n",
    "\n",
    "dds_deseq2_hallepi_amplicon_bacteria_asv_maineffects.RDS: R object that contains the results of the GLM ran over the bacterial ASVS testing the main effects (Fraction,Genotype and Phosphate) across the Halle soil experiment. <br />\n",
    "\n",
    "dds_deseq2_hallepi_amplicon_fungi_otus_maineffects.RDS: R object that contains the results of the GLM ran over the fungal OTUs testing the main effects (Fraction,Genotype and Phosphate) across the Halle soil experiment <br />\n",
    "\n",
    "dds_deseq2_hallepi_amplicon_bacteria_asv_groupsgenotypephosphate.RDS: R object that contains the result of the GLM ran over the bacterial ASVS testing the Genotype:Phosphate interaction across the Halle soil experiment. <br />\n",
    "\n",
    "dds_deseq2_hallepi_amplicon_fungi_otus_groupsgenotypephosphate.RDS: R object that contains the result of the GLM ran over the fungal OTUs testing the Genotype:Phosphate interaction across the Halle soil experiment <br />"
   ]
  },
  {
   "cell_type": "code",
   "execution_count": 1,
   "metadata": {},
   "outputs": [],
   "source": [
    "# do imports\n",
    "import numpy as np\n",
    "import matplotlib.pyplot as plt\n",
    "import scipy.stats as sps\n",
    "import pickle\n",
    "import pandas as pd\n",
    "import seaborn as sns"
   ]
  },
  {
   "cell_type": "code",
   "execution_count": 4,
   "metadata": {},
   "outputs": [
    {
     "name": "stdout",
     "output_type": "stream",
     "text": [
      "(22383, 166)\n"
     ]
    }
   ],
   "source": [
    "#extract shoot and root data from csv files\n",
    "reads = np.empty((22383, 166))\n",
    "OTUs = np.empty(22383, dtype=str)\n",
    "plate = np.empty(166, dtype=str)\n",
    "OTU = []\n",
    "f = open('figure2A_raw.csv', 'r')\n",
    "i = 0\n",
    "for line in f:\n",
    "    line = line.strip()\n",
    "    line = line.split(',')\n",
    "    if line[0] == '\"\"':\n",
    "        for j in range(len(line)):\n",
    "            line[j] = line[j][1:-1]\n",
    "        plate = line[1::]\n",
    "    else:\n",
    "        reads[i] = line[1::]\n",
    "        if line[0][1] == 'A':\n",
    "            line[0] = line[0][1:-1]\n",
    "            OTU.append(line[0])\n",
    "        i += 1\n",
    "OTUs = OTU\n",
    "print(reads.shape)\n",
    "root_ind = [[],[],[]]\n",
    "shoot_ind = [[],[],[]]\n",
    "soil_ind = [[],[],[]]\n",
    "q = open('data_Fig2A_S2A.csv', 'r')\n",
    "for row in q:\n",
    "    row = row.strip()\n",
    "    row = row.split(',')\n",
    "    pos = row[0]+'_'+row[1]\n",
    "    if row[6] == 'Col-0':\n",
    "        if row[8] == 'Root':\n",
    "            root_ind[0].append(plate.index(pos))\n",
    "        if row[8] == 'Soil':\n",
    "            soil_ind[0].append(plate.index(pos))\n",
    "        if row[8] == 'Shoot':\n",
    "            shoot_ind[0].append(plate.index(pos))\n",
    "    if row[6] == 'phf1':\n",
    "        if row[8] == 'Root':\n",
    "            root_ind[1].append(plate.index(pos))\n",
    "        if row[8] == 'Soil':\n",
    "            soil_ind[1].append(plate.index(pos))\n",
    "        if row[8] == 'Shoot':\n",
    "            shoot_ind[1].append(plate.index(pos))\n",
    "    if row[6] == 'phr1/phl1':\n",
    "        if row[8] == 'Root':\n",
    "            root_ind[2].append(plate.index(pos))\n",
    "        if row[8] == 'Soil':\n",
    "            soil_ind[2].append(plate.index(pos))\n",
    "        if row[8] == 'Shoot':\n",
    "            shoot_ind[2].append(plate.index(pos))\n",
    "root_col = np.array(root_ind[0])\n",
    "root_phf = np.array(root_ind[1])\n",
    "root_phr = np.array(root_ind[2])\n",
    "soil_col = np.array(soil_ind[0])\n",
    "soil_phf = np.array(soil_ind[1])\n",
    "soil_phr = np.array(soil_ind[2])\n",
    "shoot_col = np.array(shoot_ind[0])\n",
    "shoot_phf = np.array(shoot_ind[1])\n",
    "shoot_phr = np.array(shoot_ind[2])\n"
   ]
  },
  {
   "cell_type": "code",
   "execution_count": 5,
   "metadata": {},
   "outputs": [],
   "source": [
    "#rarefraction the data\n",
    "from numpy.random import RandomState\n",
    "\n",
    "def rarefaction(M, seed=0):\n",
    "    prng = RandomState(seed) # reproducible results\n",
    "    noccur = np.sum(M, axis=0) # number of occurrences for each sample\n",
    "    nvar = M.shape[0] # number of variables\n",
    "    #print(nvar)\n",
    "    #depth = np.min(noccur) # sampling depth\n",
    "    depth = 3000\n",
    "\n",
    "    Mrarefied = np.empty_like(M)\n",
    "    for i in range(M.shape[1]): # for each sample\n",
    "        p = M[:,i] / float(noccur[i]) # relative frequency / probability\n",
    "        choice = prng.choice(nvar, depth, p=p)\n",
    "        Mrarefied[:,i] = np.bincount(choice, minlength=nvar)\n",
    "\n",
    "    return Mrarefied"
   ]
  },
  {
   "cell_type": "code",
   "execution_count": 8,
   "metadata": {},
   "outputs": [
    {
     "name": "stdout",
     "output_type": "stream",
     "text": [
      "[[131.   4.   2. ...   8.  39. 264.]\n",
      " [  0.   0.   0. ... 745.  12.   4.]\n",
      " [  0.   0.   0. ...   4.   3.  37.]\n",
      " ...\n",
      " [  0.   0.   0. ...   0.   0.   0.]\n",
      " [  0.   0.   0. ...   0.   0.   0.]\n",
      " [  0.   0.   0. ...   0.   0.   0.]]\n"
     ]
    }
   ],
   "source": [
    "rare = rarefaction(reads, seed=130816)\n",
    "print(rare)"
   ]
  },
  {
   "cell_type": "code",
   "execution_count": 9,
   "metadata": {},
   "outputs": [],
   "source": [
    "#compute shannon diversity (can only handle single vector)\n",
    "def shannon_diversity(x):\n",
    "    pc = 10**(-10)\n",
    "    x = x + pc\n",
    "    x =x/x.sum()\n",
    "    S = np.sum(-x*np.log(x))\n",
    "    return S\n",
    "def shannon_diversity_sample(X):\n",
    "    sd = []\n",
    "    number_of_samples = X.shape[1]\n",
    "    for i in range(number_of_samples):\n",
    "        sd.append(shannon_diversity(X[:,i]))\n",
    "    return sd #returns average of diversity"
   ]
  },
  {
   "cell_type": "code",
   "execution_count": 13,
   "metadata": {
    "scrolled": true
   },
   "outputs": [
    {
     "name": "stdout",
     "output_type": "stream",
     "text": [
      "[4.94588028 5.44647698 6.30765353 5.84441553 6.12155764 5.64339187\n",
      " 5.2416605  6.55144368 5.69350066 5.08268153 5.14287243 5.45947989\n",
      " 4.56743084 5.11482517 5.98950159 4.31585869 5.36172771 4.40839388\n",
      " 6.3604914  5.58283014 5.82756169 4.89106996 6.29780922 4.92476715\n",
      " 5.62296333 6.575604   5.27017376 6.39738697 4.67757855 4.206166\n",
      " 5.12031677 4.96357265 6.24414369 5.45762509 5.40925295 5.50586972\n",
      " 6.28026399 6.14938002 5.37431873 5.38725824 5.22441876 5.36756085\n",
      " 3.92950827 4.72802217 5.71769511 4.91325488 5.00654452 5.33779369\n",
      " 5.90248665 4.50715087 5.30697696 4.94737917 4.97351099 5.46222229\n",
      " 4.41715066 4.7110785  4.1131101  4.86619257 6.19531777 5.19923294\n",
      " 5.14879289 5.06276836 4.73313998 6.49480106 4.62573791 5.29290313\n",
      " 4.05502289 5.4607053  4.82377803 4.80644877 4.72813524 4.51201904\n",
      " 3.94802584 3.78024583 5.31342421 4.32119316 4.96609406 5.23738241\n",
      " 4.79693192 4.65538821 4.56955848 5.89091179 4.78083803 6.23347048\n",
      " 4.49734108 5.19856049 4.80277695 4.51388901 6.19221693 4.77277329\n",
      " 4.58574729 4.58905171 3.65884891 4.7874153  3.95738837 4.7045145\n",
      " 4.85502582 6.46472313 5.06469283 5.04428584 4.56895392 5.08407924\n",
      " 5.35552705 6.19935098 5.01394508 4.58867836 4.93573324 6.2546083\n",
      " 6.04331828 6.14003789 6.40040502 4.61124727 4.18907951 5.44134247\n",
      " 4.77091305 5.16713484 6.24468762 4.38080786 4.7224587  4.67108866\n",
      " 5.08835218 4.77897397 5.80612017 5.57363103 4.4097612  4.76490665\n",
      " 6.31869998 5.76040054 5.94002358 4.3809462  4.28596709 5.71403334\n",
      " 4.69223007 4.60883705 5.41888218 5.16232687 4.608031   4.33204718\n",
      " 5.25376964 4.14347866 5.42255381 3.60837307 3.00266137 4.63152315\n",
      " 4.83470014 4.22351242 5.01769488 5.31323319 6.22601936 4.14154391\n",
      " 4.5149806  4.62138065 4.86540154 5.10743468 4.60092088 4.09433823\n",
      " 4.60654481 5.75227226 4.54023743 3.81113508 5.02588031 5.7303756\n",
      " 5.10671451 4.13671324 4.5365689  4.49758987]\n"
     ]
    }
   ],
   "source": [
    "plart = np.array(shannon_diversity_sample(rare))\n",
    "print(plart)"
   ]
  },
  {
   "cell_type": "code",
   "execution_count": 25,
   "metadata": {},
   "outputs": [
    {
     "name": "stdout",
     "output_type": "stream",
     "text": [
      "0.699\n",
      "0.967\n",
      "0.94\n",
      "0.962\n",
      "0.9953333333333333\n",
      "0.9316666666666666\n",
      "0.9533333333333334\n",
      "0.9236666666666666\n",
      "0.9286666666666666\n",
      "0.906\n",
      "0.9176666666666666\n",
      "0.9463333333333334\n",
      "0.8913333333333333\n",
      "0.9723333333333334\n",
      "0.9426666666666667\n",
      "0.9796666666666667\n",
      "0.9643333333333334\n",
      "0.965\n",
      "0.9776666666666667\n",
      "0.9743333333333334\n",
      "0.987\n"
     ]
    }
   ],
   "source": [
    "# Calculate bray-curtis dissimilarities\n",
    "from scipy.spatial import distance\n",
    "soil = np.concatenate((rare[:, soil_col], rare[:, soil_phf], rare[:, soil_phr]), axis=1)\n",
    "root = np.concatenate((rare[:, root_col], rare[:, root_phf], rare[:, root_phr]), axis=1)\n",
    "soil_flip = np.transpose(soil)\n",
    "root_flip = np.transpose(root)\n",
    "for column in range(len(soil_flip)):\n",
    "    print(distance.braycurtis(soil_flip[column], root_flip[column]))"
   ]
  },
  {
   "cell_type": "code",
   "execution_count": 11,
   "metadata": {},
   "outputs": [],
   "source": [
    "soil = pd.DataFrame({'Soil':plart[soil_col]})\n",
    "root = pd.DataFrame({'Root':plart[root_col]})\n",
    "shoot = pd.DataFrame({'Shoot':plart[shoot_col]})\n",
    "col = pd.concat([soil,root,shoot], axis=0, ignore_index=True, sort=False)\n",
    "\n",
    "soil = pd.DataFrame({'Soil':plart[soil_phf]})\n",
    "root = pd.DataFrame({'Root':plart[root_phf]})\n",
    "shoot = pd.DataFrame({'Shoot':plart[shoot_phf]})\n",
    "phf = pd.concat([soil,root,shoot], axis=0, ignore_index=True, sort=False)\n",
    "\n",
    "soil = pd.DataFrame({'Soil':plart[soil_phr]})\n",
    "root = pd.DataFrame({'Root':plart[root_phr]})\n",
    "shoot = pd.DataFrame({'Shoot':plart[shoot_phr]})\n",
    "phr = pd.concat([soil,root,shoot], axis=0, ignore_index=True, sort=False)"
   ]
  },
  {
   "cell_type": "code",
   "execution_count": 204,
   "metadata": {},
   "outputs": [
    {
     "data": {
      "image/png": "[encoded data removed]",
      "text/plain": [
       "<Figure size 432x288 with 3 Axes>"
      ]
     },
     "metadata": {},
     "output_type": "display_data"
    }
   ],
   "source": [
    "'''colors = ['purple', 'saddlebrown', 'green']\n",
    "sns.set_style('white')\n",
    "sns.set_palette(sns.color_palette(colors))\n",
    "fig, axes = plt.subplots(1, 3, sharey=True)\n",
    "ax = sns.boxplot(data=col, ax=axes[0], color='white', fliersize=0)\n",
    "ax.set(ylabel='Bacteria\\nShannon Diversity Index', title='Col-0')\n",
    "sns.stripplot(data=col, ax=axes[0])\n",
    "ab = sns.boxplot(data=phf, ax=axes[1], color='white', fliersize=0)\n",
    "ab.set(title='phf1')\n",
    "sns.stripplot(data=phf, ax=axes[1])\n",
    "ass = sns.boxplot(data=phr, ax=axes[2], color='white', fliersize=0)\n",
    "ass.set(title='phr1 phl1')\n",
    "sns.stripplot(data=phr, ax=axes[2]);'''"
   ]
  },
  {
   "cell_type": "code",
   "execution_count": 12,
   "metadata": {},
   "outputs": [
    {
     "data": {
      "image/png": "[encoded data removed]",
      "text/plain": [
       "<Figure size 432x288 with 3 Axes>"
      ]
     },
     "metadata": {},
     "output_type": "display_data"
    }
   ],
   "source": [
    "colors = ['purple', 'saddlebrown', 'green']\n",
    "sns.set_style('white')\n",
    "sns.set_palette(sns.color_palette(colors))\n",
    "fig, axes = plt.subplots(1, 3, sharey=True)\n",
    "ax = sns.boxplot(data=col, ax=axes[0], color='white', fliersize=0)\n",
    "ax.set(ylabel='Bacteria\\nShannon Diversity Index', title='Col-0')\n",
    "sns.stripplot(data=col, ax=axes[0])\n",
    "ab = sns.boxplot(data=phf, ax=axes[1], color='white', fliersize=0)\n",
    "ab.set(title='phf1')\n",
    "sns.stripplot(data=phf, ax=axes[1])\n",
    "ass = sns.boxplot(data=phr, ax=axes[2], color='white', fliersize=0)\n",
    "ass.set(title='phr1 phl1')\n",
    "sns.stripplot(data=phr, ax=axes[2]);"
   ]
  },
  {
   "cell_type": "code",
   "execution_count": null,
   "metadata": {},
   "outputs": [],
   "source": []
  }
 ],
 "metadata": {
  "kernelspec": {
   "display_name": "Python 3",
   "language": "python",
   "name": "python3"
  },
  "language_info": {
   "codemirror_mode": {
    "name": "ipython",
    "version": 3
   },
   "file_extension": ".py",
   "mimetype": "text/x-python",
   "name": "python",
   "nbconvert_exporter": "python",
   "pygments_lexer": "ipython3",
   "version": "3.7.3"
  }
 },
 "nbformat": 4,
 "nbformat_minor": 2
}
